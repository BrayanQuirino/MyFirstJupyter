{
  "nbformat": 4,
  "nbformat_minor": 0,
  "metadata": {
    "colab": {
      "name": "htmSS.ipynb",
      "provenance": [],
      "collapsed_sections": [],
      "toc_visible": true,
      "include_colab_link": true
    },
    "kernelspec": {
      "name": "python3",
      "display_name": "Python 3"
    }
  },
  "cells": [
    {
      "cell_type": "markdown",
      "metadata": {
        "id": "view-in-github",
        "colab_type": "text"
      },
      "source": [
        "<a href=\"https://colab.research.google.com/github/BrayanQuirino/MyFirstJupyter/blob/master/htmSS.ipynb\" target=\"_parent\"><img src=\"https://colab.research.google.com/assets/colab-badge.svg\" alt=\"Open In Colab\"/></a>"
      ]
    },
    {
      "cell_type": "markdown",
      "metadata": {
        "id": "CsU8fXpvtZvQ",
        "colab_type": "text"
      },
      "source": [
        "# Como crear un sevidor\n",
        "\n",
        "Necesitamos un lugar donde se alojara nuestro servidor. Crear una maquina en Azure  con las siguientes características.\n",
        "\n",
        "* Public IP address: enable\n",
        "* Operating system: Linux (ubuntu 18.04)\n",
        "* Size: Standard D2s v3 (2 vcpus, 8 GiB memory)\n",
        "\n",
        "Para ver como crear una maquina virtual con mas detalle da clic [aquí.](https://www.youtube.com/watch?v=uAUvetIRY50)"
      ]
    },
    {
      "cell_type": "markdown",
      "metadata": {
        "id": "qTKGvI49vxi9",
        "colab_type": "text"
      },
      "source": [
        "## Acceso a nuestra nueva maquina\n",
        "Tenemos varias formas de accesar a nuestra máquina, la primera por la consola estándar de Windows cmd, la segunda por putty  y la tercera, la propia consola de Azure.\n",
        "\n",
        "## Windows cmd\n",
        "\n"
      ]
    },
    {
      "cell_type": "code",
      "metadata": {
        "id": "c1y358bOw6aE",
        "colab_type": "code",
        "colab": {
          "base_uri": "https://localhost:8080/",
          "height": 417
        },
        "outputId": "7e19fa2c-1f50-4210-866e-8ec3d9c82e39"
      },
      "source": [
        "Image('consolaazure.png',width=800)"
      ],
      "execution_count": 14,
      "outputs": [
        {
          "output_type": "execute_result",
          "data": {
            "image/png": "[encoded data removed]",
            "text/plain": [
              "<IPython.core.display.Image object>"
            ]
          },
          "metadata": {
            "tags": [],
            "image/png": {
              "width": 800
            }
          },
          "execution_count": 14
        }
      ]
    },
    {
      "cell_type": "code",
      "metadata": {
        "id": "YQNnKFMUxgAd",
        "colab_type": "code",
        "colab": {}
      },
      "source": [
        ""
      ],
      "execution_count": 0,
      "outputs": []
    }
  ]
}