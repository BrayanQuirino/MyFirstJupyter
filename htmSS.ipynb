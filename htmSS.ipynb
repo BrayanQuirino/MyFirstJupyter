{
  "nbformat": 4,
  "nbformat_minor": 0,
  "metadata": {
    "colab": {
      "name": "htmSS.ipynb",
      "provenance": [],
      "collapsed_sections": [],
      "toc_visible": true,
      "include_colab_link": true
    },
    "kernelspec": {
      "name": "python3",
      "display_name": "Python 3"
    }
  },
  "cells": [
    {
      "cell_type": "markdown",
      "metadata": {
        "id": "view-in-github",
        "colab_type": "text"
      },
      "source": [
        "<a href=\"https://colab.research.google.com/github/BrayanQuirino/MyFirstJupyter/blob/master/htmSS.ipynb\" target=\"_parent\"><img src=\"https://colab.research.google.com/assets/colab-badge.svg\" alt=\"Open In Colab\"/></a>"
      ]
    },
    {
      "cell_type": "markdown",
      "metadata": {
        "id": "CsU8fXpvtZvQ",
        "colab_type": "text"
      },
      "source": [
        "# Como crear un sevidor\n",
        "\n",
        "Necesitamos un lugar donde se alojara nuestro servidor. Crear una maquina en Azure  con las siguientes características.\n",
        "\n",
        "* Public IP address: enable\n",
        "* Operating system: Linux (ubuntu 18.04)\n",
        "* Size: Standard D2s v3 (2 vcpus, 8 GiB memory)\n",
        "\n",
        "Para ver como crear una maquina virtual con mas detalle da clic [aquí.](https://www.youtube.com/watch?v=uAUvetIRY50)"
      ]
    },
    {
      "cell_type": "markdown",
      "metadata": {
        "id": "qTKGvI49vxi9",
        "colab_type": "text"
      },
      "source": [
        "## Acceso a nuestra nueva maquina\n",
        "Tenemos varias formas de accesar a nuestra máquina, la primera por la consola estándar de Windows cmd, la segunda por putty  y la tercera, la propia consola de Azure.\n",
        "\n",
        "1.  **Windosw cmd**\n",
        "\n",
        "<img src=\"https://doc-08-78-docs.googleusercontent.com/docs/securesc/brqnpfcp391tmrjfm05oesucmuip8p6c/al91m3r1b1bbq25vrcs7pu5oohtvra7a/1569636000000/07926249644724311890/07926249644724311890/1Qx6FbIYD54My-9smKPmx3Ean132UgjWS?e=download\" width= \"500\">\n",
        "\n",
        "2.  **Putty**\n",
        "\n",
        "<img src=\"https://doc-0k-78-docs.googleusercontent.com/docs/securesc/brqnpfcp391tmrjfm05oesucmuip8p6c/jthn4agh0ntuqseugvseu1nm8dth8ika/1569636000000/07926249644724311890/07926249644724311890/11UmYNNCx4D5n9SeBWjQdXmjhTSfHfnjr?e=download\" width= \"500\">\n",
        "\n",
        "3. **Consola de Azure**\n",
        "\n",
        "<img src=\"https://doc-04-78-docs.googleusercontent.com/docs/securesc/brqnpfcp391tmrjfm05oesucmuip8p6c/j2go1kvobm4e7kbnqds2bckl65e9f8n0/1569636000000/07926249644724311890/07926249644724311890/17K8KFn5HrWZlDqfIIacEsyguAMVSMFkA?e=download\" width= \"500\">"
      ]
    },
    {
      "cell_type": "markdown",
      "metadata": {
        "id": "UmUd1Kh98utz",
        "colab_type": "text"
      },
      "source": [
        "# NodeJS\n",
        "\n",
        "### Actualizar los paquetes de la maquina\n",
        "\n",
        "`sudo apt-get update`\n",
        "\n",
        "### Instalar NodeJs\n",
        "`sudo apt-get install nodejs`\n",
        "\n",
        "### Instalar NPM (gestor de paquetes)\n",
        "`sudo apt-get install npm`\n",
        "\n",
        "### Instalar el generador de aplicaciones [Express](https://expressjs.com/es/starter/generator.html)\n",
        "`sudo npm install express-generator@4 -g`\n",
        "\n",
        "De forma mas explicita este comando nos instalará un paquete que nos creará la plantilla de codigo y carpetas necesarias para nuestra API."
      ]
    },
    {
      "cell_type": "markdown",
      "metadata": {
        "id": "XQwZ2Nu_Amo0",
        "colab_type": "text"
      },
      "source": [
        "# PostgreSQL\n",
        "\n",
        "1. ### Instalar PostgreSQL\n",
        "\n",
        "  `sudo apt install postgresql postgresql-contrib`\n",
        "\n",
        "2. ### Ingresar a PostgreSQL sin cambiar de usuario\n",
        "  `sudo -u postgres psql`\n",
        "\n",
        "3. ### Contraseña del súperusuario postgres\n",
        "\n",
        "  `sudo -u postgres psql`\n",
        "\n",
        "  `\\password postgres`\n",
        "\n",
        "  3.1. **Quitar postgres**\n",
        "\n",
        "  `\\q`\n",
        "\n",
        "  3.2. **Resetear postgres**\n",
        "\n",
        "  `sudo service postgresql restart`\n",
        "\n",
        "\n",
        "4. ### Crear una base de datos (user)\n",
        "\n",
        "  4.1. **Desde el súperusuario**\n",
        "\n",
        "  `sudo -u postgres createdb test`\n",
        "\n",
        "  4.2. **Desde PostgreSQL**\n",
        "\n",
        "  `createdb "
      ]
    },
    {
      "cell_type": "markdown",
      "metadata": {
        "id": "_VN8Z2yYHD1h",
        "colab_type": "text"
      },
      "source": [
        "# Creando la API\n",
        "\n",
        "Primero quitamos salimos de postgres y regresamos al usuario normal:\n",
        "\n",
        "1. ### Regresar al usuario\n",
        "`su - usuario`\n",
        "\n",
        "2. ### Situarse en la carpeta /home \n",
        "`cd /home`\n",
        "\n",
        "3. ### Crear una carpeta para el proyecto\n",
        "`sudo mkdir practicas`\n",
        "4. ### Entramos a la carpeta *practicas*\n",
        "`cd practicas`\n",
        "\n",
        "### Crear un nuevo proyecto Express y sus dependencias\n",
        "`sudo express practica_01`\n",
        "\n",
        "#### Entramos al proyecto\n",
        "`cd practica_01`\n",
        "#### Vemos que nos creó el comando express\n",
        "`ls -la`\n",
        "#### Hacemos uso de NPM en el proyecto\n",
        "`sudo npm install`\n",
        "\n"
      ]
    },
    {
      "cell_type": "markdown",
      "metadata": {
        "id": "Cj2QYpChImz8",
        "colab_type": "text"
      },
      "source": [
        "### Añadir el puerto 3000 en nuestra maquina Azure\n",
        "* En Networking \n",
        "  * Add inbound port rule\n",
        "    * **Name:** Port_3000\n",
        "    * **Port:** 3000\n",
        "    \n",
        "<img src=\"https://docs.google.com/uc?export=download&id=13fo11WmL09Xm53Nn8Tze9WRWUCi7TJWo\" width= \"500\">"
      ]
    },
    {
      "cell_type": "markdown",
      "metadata": {
        "id": "NO8sR8bNJdiN",
        "colab_type": "text"
      },
      "source": [
        "### Iniciar el servicio (prueba)\n",
        "`sudo npm start`\n",
        "\n",
        "`ip:3000/`\n",
        "\n",
        "\n",
        "<img src=\"https://docs.google.com/uc?export=download&id=1YPDIqo6RGM_BKxnn-J5UkceEbbZSpaMa\" width= \"500\">"
      ]
    },
    {
      "cell_type": "markdown",
      "metadata": {
        "id": "hAUsNEBiJxpp",
        "colab_type": "text"
      },
      "source": [
        "# Dependencias para el manejo de la BD en la web\n",
        "\n",
        "### Instalar [pg-promise](https://www.npmjs.com/package/pg-promise)\n",
        "`sudo npm install pg-promise@5 --save`\n",
        "\n",
        "### Instalar [bluebird](http://bluebirdjs.com/docs/getting-started.html)\n",
        "`sudo npm install bluebird@3 --save`\n",
        "\n",
        "# Ajustes en archivos\n",
        "### En la raíz del proyecto crear un archivo llamado *queries.js*\n",
        "`sudo vim queries.js`\n",
        "\n",
        "```\n",
        "var promise = require('bluebird');\n",
        "\n",
        "var options = {\n",
        "// Initialization Options\n",
        "promiseLib: promise\n",
        "};\n",
        "\n",
        "var pgp = require('pg-promise')(options); //Instancia de pg-promise\n",
        "var connectionString = 'postgres://localhost:5432/puppies';\n",
        "var db = pgp({\n",
        "        host: 'localhost',\n",
        "        port: 5432,\n",
        "        database: 'puppies',\n",
        "        user: 'postgres',\n",
        "        password: 'postgres'\n",
        "});\n",
        "\n",
        "\n",
        "// add query functions\n",
        "\n",
        "module.exports = {\n",
        "  getAllPuppies: getAllPuppies,\n",
        "  getSinglePuppy: getSinglePuppy,\n",
        "  createPuppy: createPuppy,\n",
        "  updatePuppy: updatePuppy,\n",
        "  removePuppy: removePuppy\n",
        "};\n",
        "```\n"
      ]
    },
    {
      "cell_type": "markdown",
      "metadata": {
        "id": "G_xHuWFaKU06",
        "colab_type": "text"
      },
      "source": [
        "### En la raíz del proyecto crear un archivo llamado *puppies.sql*\n",
        "`sudo nano puppies.sql`\n",
        "\n",
        "```\n",
        "DROP DATABASE IF EXISTS puppies;\n",
        "CREATE DATABASE puppies;\n",
        "\n",
        "\\c puppies;\n",
        "\n",
        "CREATE TABLE pups (\n",
        "  ID SERIAL PRIMARY KEY,\n",
        "  name VARCHAR,\n",
        "  breed VARCHAR,\n",
        "  age INTEGER,\n",
        "  sex VARCHAR\n",
        ");\n",
        "\n",
        "INSERT INTO pups (name, breed, age, sex)\n",
        "  VALUES ('Tyler', 'Retrieved', 3, 'M');\n",
        "  \n",
        "```"
      ]
    },
    {
      "cell_type": "markdown",
      "metadata": {
        "id": "Ln9iuqM0L4ml",
        "colab_type": "text"
      },
      "source": [
        "### Editar el archivo /routes/index.js\n",
        "sudo vim index.js\n",
        "\n",
        "**La funcion descomentada es la que elegí**\n",
        "```\n",
        "var express = require('express');\n",
        "var router = express.Router();\n",
        "\n",
        "var db = require('../queries');\n",
        "\n",
        "\n",
        "router.get('/api/puppies', db.getAllPuppies);\n",
        "//router.get('/api/puppies/:id', db.getSinglePuppy);\n",
        "//router.post('/api/puppies', db.createPuppy);\n",
        "//router.put('/api/puppies/:id', db.updatePuppy);\n",
        "//router.delete('/api/puppies/:id', db.removePuppy);\n",
        "\n",
        "\n",
        "module.exports = router;\n",
        "```"
      ]
    },
    {
      "cell_type": "markdown",
      "metadata": {
        "id": "RgKaFX6KKey0",
        "colab_type": "text"
      },
      "source": [
        "### Checar la base de datos\n",
        "`sudo -u postgres psql`\n",
        "\n",
        "1. **Listar las BD** \n",
        "\n",
        "  `\\l`\n",
        "\n",
        "2. **Conectarnos a la BD  pippies** \n",
        "\n",
        "  `\\c puppies`\n",
        "\n",
        "3. **Ver puppies** \n",
        "\n",
        "  `\\dt`\n",
        "\n",
        "  `select * from pups;`"
      ]
    },
    {
      "cell_type": "markdown",
      "metadata": {
        "id": "7XLAHIUVNU2Q",
        "colab_type": "text"
      },
      "source": [
        "### Instalar Forever\n",
        "\n",
        "Paquete para mantener corriendo un servicio\n",
        "\n",
        "`sudo npm install -g forever`\n",
        "\n",
        "### Parar Forever\n",
        "`sudo forever list`\n",
        "\n",
        "`sudo forever stop PID`\n",
        "\n",
        "### Usar Forever en el proyecto \n",
        "`sudo forever start bin/www`"
      ]
    },
    {
      "cell_type": "markdown",
      "metadata": {
        "id": "qXWPq7bUNvjb",
        "colab_type": "text"
      },
      "source": [
        "# Método GET\n",
        "`http://52.170.146.167:3000/api/puppies`\n",
        "\n",
        "###Resultados\n",
        "\n",
        "<img src=\"https://doc-08-78-docs.googleusercontent.com/docs/securesc/brqnpfcp391tmrjfm05oesucmuip8p6c/vfuk0i95nve9m40dticl3rqge4gveke9/1569643200000/07926249644724311890/07926249644724311890/1Fgqt3ZTs9FvsJf76Ih9r8LY4-TYngpPp?e=download\" width=\"700\">"
      ]
    },
    {
      "cell_type": "markdown",
      "metadata": {
        "id": "gxYDDLkOOf_c",
        "colab_type": "text"
      },
      "source": [
        "# Comentarios\n",
        "Me pareció genial lo de express y la versatilidad con la que uno puede trabajar. Intente hacer el método “update” pero no lo logre por alguna razón, entonces me enfoque en hacer el método más fácil “getAll”."
      ]
    },
    {
      "cell_type": "markdown",
      "metadata": {
        "id": "P0BClIgNO9sD",
        "colab_type": "text"
      },
      "source": [
        "\n",
        "# Universidad Nacional Autónoma de México\n",
        "## Facultad de estudios Superiores Acatlán\n",
        "### Administración de BD\n",
        "### Profesor: Jacobo León\n",
        "#### Elaborado y diseñado por Brayan Quirino\n",
        "\n",
        "#### 28 de septiembre de 2019\n",
        "\n",
        "\n",
        "\n"
      ]
    },
    {
      "cell_type": "code",
      "metadata": {
        "id": "gxO6UOzJNrfS",
        "colab_type": "code",
        "colab": {}
      },
      "source": [
        ""
      ],
      "execution_count": 0,
      "outputs": []
    }
  ]
}