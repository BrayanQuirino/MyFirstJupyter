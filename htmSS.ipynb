{
  "nbformat": 4,
  "nbformat_minor": 0,
  "metadata": {
    "colab": {
      "name": "htmSS.ipynb",
      "provenance": [],
      "collapsed_sections": [],
      "include_colab_link": true
    },
    "kernelspec": {
      "name": "python3",
      "display_name": "Python 3"
    }
  },
  "cells": [
    {
      "cell_type": "markdown",
      "metadata": {
        "id": "view-in-github",
        "colab_type": "text"
      },
      "source": [
        "<a href=\"https://colab.research.google.com/github/BrayanQuirino/MyFirstJupyter/blob/master/htmSS.ipynb\" target=\"_parent\"><img src=\"https://colab.research.google.com/assets/colab-badge.svg\" alt=\"Open In Colab\"/></a>"
      ]
    },
    {
      "cell_type": "markdown",
      "metadata": {
        "id": "CsU8fXpvtZvQ",
        "colab_type": "text"
      },
      "source": [
        "# Como crear un sevidor\n",
        "\n",
        "Necesitamos un lugar donde se alojara nuestro servidor. Crear una maquina en Azure  con las siguientes características.\n",
        "\n",
        "* Public IP address: enable\n",
        "* Operating system: Linux (ubuntu 18.04)\n",
        "* Size: Standard D2s v3 (2 vcpus, 8 GiB memory)"
      ]
    },
    {
      "cell_type": "code",
      "metadata": {
        "id": "r1DbShTftOem",
        "colab_type": "code",
        "colab": {}
      },
      "source": [
        ""
      ],
      "execution_count": 0,
      "outputs": []
    }
  ]
}