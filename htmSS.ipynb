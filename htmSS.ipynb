{
  "nbformat": 4,
  "nbformat_minor": 0,
  "metadata": {
    "colab": {
      "name": "htmSS.ipynb",
      "provenance": [],
      "collapsed_sections": [],
      "toc_visible": true,
      "include_colab_link": true
    },
    "kernelspec": {
      "name": "python3",
      "display_name": "Python 3"
    }
  },
  "cells": [
    {
      "cell_type": "markdown",
      "metadata": {
        "id": "view-in-github",
        "colab_type": "text"
      },
      "source": [
        "<a href=\"https://colab.research.google.com/github/BrayanQuirino/MyFirstJupyter/blob/master/htmSS.ipynb\" target=\"_parent\"><img src=\"https://colab.research.google.com/assets/colab-badge.svg\" alt=\"Open In Colab\"/></a>"
      ]
    },
    {
      "cell_type": "markdown",
      "metadata": {
        "id": "CsU8fXpvtZvQ",
        "colab_type": "text"
      },
      "source": [
        "# Como crear un sevidor\n",
        "\n",
        "Necesitamos un lugar donde se alojara nuestro servidor. Crear una maquina en Azure  con las siguientes características.\n",
        "\n",
        "* Public IP address: enable\n",
        "* Operating system: Linux (ubuntu 18.04)\n",
        "* Size: Standard D2s v3 (2 vcpus, 8 GiB memory)\n",
        "\n",
        "Para ver como crear una maquina virtual con mas detalle da clic [aquí.](https://www.youtube.com/watch?v=uAUvetIRY50)"
      ]
    },
    {
      "cell_type": "markdown",
      "metadata": {
        "id": "qTKGvI49vxi9",
        "colab_type": "text"
      },
      "source": [
        "## Acceso a nuestra nueva maquina\n",
        "Tenemos varias formas de accesar a nuestra máquina, la primera por la consola estándar de Windows cmd, la segunda por putty  y la tercera, la propia consola de Azure.\n",
        "\n",
        "## Windows cmd\n",
        "\n",
        "<img src=\"https://doc-08-78-docs.googleusercontent.com/docs/securesc/brqnpfcp391tmrjfm05oesucmuip8p6c/al91m3r1b1bbq25vrcs7pu5oohtvra7a/1569636000000/07926249644724311890/07926249644724311890/1Qx6FbIYD54My-9smKPmx3Ean132UgjWS?e=download\" width= \"500\">\n",
        "\n"
      ]
    },
    {
      "cell_type": "code",
      "metadata": {
        "id": "pSSX0gjdze0u",
        "colab_type": "code",
        "colab": {}
      },
      "source": [
        ""
      ],
      "execution_count": 0,
      "outputs": []
    }
  ]
}