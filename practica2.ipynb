{
  "nbformat": 4,
  "nbformat_minor": 0,
  "metadata": {
    "colab": {
      "name": "practica2.ipynb",
      "provenance": [],
      "collapsed_sections": [],
      "include_colab_link": true
    },
    "kernelspec": {
      "name": "python3",
      "display_name": "Python 3"
    }
  },
  "cells": [
    {
      "cell_type": "markdown",
      "metadata": {
        "id": "view-in-github",
        "colab_type": "text"
      },
      "source": [
        "<a href=\"https://colab.research.google.com/github/BrayanQuirino/MyFirstJupyter/blob/master/practica2.ipynb\" target=\"_parent\"><img src=\"https://colab.research.google.com/assets/colab-badge.svg\" alt=\"Open In Colab\"/></a>"
      ]
    },
    {
      "cell_type": "markdown",
      "metadata": {
        "id": "9cqHxfMac2wJ",
        "colab_type": "text"
      },
      "source": [
        "# Práctica 2\n",
        "\n",
        "### Los datos:\n",
        "\n",
        "\n",
        "\n",
        "*   Numero de registros: 50, 627, 392\n",
        "*   Filas por página: 35\n",
        "*   Campos: 19\n",
        "\n",
        "Id | Nombre Hospital | Dirección | No. Trabajadores | Especialidad | Horario | Pasientes | Camas | Salas | Elevadores | Edificion | Eeee | Telefonos | Correo | Pagina Web | Director | Servicio Pub/Priv | Ranking | Apertura \n",
        "-- | -- | -- | -- | -- | -- | --  | --  | --  | --  | --  | --  | --  | --  | --  | --  | --  | --  | --  \n",
        "n|t|t|b|n|t|t|n|n|n|n|n|n|t|t|t|t|n|d\n",
        "\n",
        "### Dónde: \n",
        "\n",
        "\n",
        "\n",
        "*   **n:** numeric (8b)\n",
        "*   **t:** text (500b)\n",
        "*   **d:** date (12b)\n",
        "*   **b:** boolean (1b)\n",
        " \n",
        "\n",
        "\n"
      ]
    },
    {
      "cell_type": "markdown",
      "metadata": {
        "id": "i6y6KDaghBRP",
        "colab_type": "text"
      },
      "source": [
        "# Programa\n",
        "\n",
        "\n",
        "El programa **desarrollado en C**, se encarga de pedir cuantas tablas tendrá nuestra BD en seguida nos pregunta cuantos campos tiene cada tabla, el número de filas totales y cuantas filas por página usaremos.\n",
        "En caso de que el número de filas sea mayor al número de filas por página se mostrara la información completa. Caso contrario solo nos mostrara el tamaño de la BD y el tamaño de las respectivas tablas.\n",
        "\n",
        "1.   **Prueba con 50,627,392 registros**\n",
        "\n",
        "<img src=\"https://docs.google.com/uc?export=download&id=16Qbed81ySFqLJBcNveul-X0qHOwNbs6q\" width=\"500\">\n",
        "\n",
        "Como vemos al usar la variable text de tamaño 500 bits, tenemos una BD de 206812 gigas.\n",
        "\n",
        "2.   **Prueba con 1,000,000 de registros**\n",
        "\n",
        "<img src=\"https://docs.google.com/uc?export=download&id=1JviPrurNs2Km_9-7OEcW-osxtkks7kjO\" width=\"500\">\n",
        "\n",
        "Reduciendo el número de registros a 1,000,000 tenemos una BD de 4085 gigas de tamaño \n",
        "\n",
        "3.   **Prueba 1,000,000 de registros y text (100bits)**\n",
        "\n",
        "<img src=\"https://docs.google.com/uc?export=download&id=1mQFpgHkULvppGn5_DAxULeYK0K3nBGPt\" width=\"500\">\n",
        "\n",
        "Con estos parámetros ajustados tenemos una BD de 885 gigas.\n",
        "\n",
        "Para ver el código fuente dar clic [aquí](https://github.com/BrayanQuirino/MyFirstJupyter/blob/master/superformula.c)"
      ]
    },
    {
      "cell_type": "markdown",
      "metadata": {
        "id": "mEZHr7xMoU0R",
        "colab_type": "text"
      },
      "source": [
        "\n",
        "# Universidad Nacional Autónoma de México\n",
        "## Facultad de estudios Superiores Acatlán\n",
        "### Administración de BD\n",
        "### Profesor: Jacobo León\n",
        "#### Elaborado y diseñado por Brayan Quirino\n",
        "\n",
        "#### 29 de septiembre de 2019\n",
        "\n"
      ]
    }
  ]
}